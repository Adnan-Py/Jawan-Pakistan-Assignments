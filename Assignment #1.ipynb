{
 "cells": [
  {
   "cell_type": "code",
   "execution_count": 10,
   "id": "313a4e3f",
   "metadata": {},
   "outputs": [
    {
     "name": "stdout",
     "output_type": "stream",
     "text": [
      "Twinkle, Twinke,little star,\n",
      "\t How are wonder what you are|\n",
      "\t\t Up above the world so high,\n",
      "\t\t Like a diamond in the sky.\n",
      "Twinkle, Twinke,little star,\n",
      "\t How are wonder what you are\n"
     ]
    }
   ],
   "source": [
    "print(\"Twinkle, Twinke,little star,\")\n",
    "print(\"\\t How are wonder what you are|\")\n",
    "print(\"\\t\\t Up above the world so high,\")\n",
    "print(\"\\t\\t Like a diamond in the sky.\")\n",
    "print(\"Twinkle, Twinke,little star,\")\n",
    "print(\"\\t How are wonder what you are\")"
   ]
  },
  {
   "cell_type": "code",
   "execution_count": 47,
   "id": "e3f15c81",
   "metadata": {},
   "outputs": [
    {
     "name": "stdout",
     "output_type": "stream",
     "text": [
      "Python version :\n",
      "3.9.7 (default, Sep 16 2021, 16:59:28) [MSC v.1916 64 bit (AMD64)]\n"
     ]
    }
   ],
   "source": [
    "import sys\n",
    "print(\"Python version :\")\n",
    "print (sys.version)"
   ]
  },
  {
   "cell_type": "code",
   "execution_count": 48,
   "id": "4d7dd3bf",
   "metadata": {},
   "outputs": [
    {
     "name": "stdout",
     "output_type": "stream",
     "text": [
      "Current Date & Time :\n",
      "29-Dec-2021 \t 13:15:28\n"
     ]
    }
   ],
   "source": [
    "import datetime\n",
    "now = datetime.datetime.now()\n",
    "print(\"Current Date & Time :\")\n",
    "print(now.strftime(\"%d-%h-%Y \\t %H:%M:%S\"))"
   ]
  },
  {
   "cell_type": "code",
   "execution_count": 8,
   "id": "22b24d17",
   "metadata": {},
   "outputs": [
    {
     "name": "stdout",
     "output_type": "stream",
     "text": [
      "Input Radius :50\n",
      "Area of cirle : 7856.5\n"
     ]
    }
   ],
   "source": [
    "radius = int(input(\"Input Radius :\"))\n",
    "radius*=radius\n",
    "area = 3.1426 * radius\n",
    "print(\"Area of cirle :\",area)"
   ]
  },
  {
   "cell_type": "code",
   "execution_count": 5,
   "id": "b014e506",
   "metadata": {},
   "outputs": [
    {
     "name": "stdout",
     "output_type": "stream",
     "text": [
      "Enter 1st Name :One\n",
      "Enter last Name :Two\n",
      "enO \t owT\n"
     ]
    }
   ],
   "source": [
    "input1 = input(\"Enter 1st Name :\")\n",
    "input2 = input(\"Enter last Name :\")\n",
    "print(input1[::-1],\"\\t\",input2[::-1])"
   ]
  },
  {
   "cell_type": "code",
   "execution_count": 7,
   "id": "3c0c7615",
   "metadata": {},
   "outputs": [
    {
     "name": "stdout",
     "output_type": "stream",
     "text": [
      "Enter 1st Num :25\n",
      "Enter 2nd Num :47\n",
      "25 + 47  =  72\n"
     ]
    }
   ],
   "source": [
    "num1 = int(input(\"Enter 1st Num :\"))\n",
    "num2 = int(input(\"Enter 2nd Num :\"))\n",
    "sum = num1 + num2\n",
    "print(num1 ,\"+\", num2, \" = \",sum)"
   ]
  }
 ],
 "metadata": {
  "kernelspec": {
   "display_name": "Python 3 (ipykernel)",
   "language": "python",
   "name": "python3"
  },
  "language_info": {
   "codemirror_mode": {
    "name": "ipython",
    "version": 3
   },
   "file_extension": ".py",
   "mimetype": "text/x-python",
   "name": "python",
   "nbconvert_exporter": "python",
   "pygments_lexer": "ipython3",
   "version": "3.9.7"
  }
 },
 "nbformat": 4,
 "nbformat_minor": 5
}
